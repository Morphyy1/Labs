{
 "nbformat": 4,
 "nbformat_minor": 0,
 "metadata": {
  "colab": {
   "provenance": []
  },
  "kernelspec": {
   "name": "python3",
   "display_name": "Python 3 (ipykernel)",
   "language": "python"
  },
  "language_info": {
   "name": "python"
  }
 },
 "cells": [
  {
   "cell_type": "markdown",
   "source": [
    "#Задача 1\n",
    "Написать функцию на вход которой подается строка, состоящая из латинских букв.\n",
    "Функция должна вернуть количество гласных букв (a, e, i, o, u) в этой строке. Написать тесты для кода"
   ],
   "metadata": {
    "id": "M-DGa20PaHnu"
   }
  },
  {
   "cell_type": "code",
   "source": [
    "symbol = [\"a\", \"e\", \"i\",\"o\", \"n\"]\n",
    "\n",
    "\n",
    "def number_vowel(str):\n",
    "    if str is None or str.isdigit():\n",
    "        return \"Некорректные данные\"\n",
    "    \n",
    "    count = 0\n",
    "    \n",
    "    for sym in str:\n",
    "        if sym in symbol:\n",
    "            count += 1\n",
    "    return count\n",
    "\n",
    "\n",
    "print(number_vowel(\"aaurtavv\"))\n",
    "print(number_vowel(\"4\"))\n"
   ],
   "metadata": {
    "id": "XvX8X_JJ6PCb",
    "ExecuteTime": {
     "end_time": "2024-09-30T13:19:59.786503Z",
     "start_time": "2024-09-30T13:19:59.783221Z"
    }
   },
   "outputs": [
    {
     "name": "stdout",
     "output_type": "stream",
     "text": [
      "3\n",
      "Некорректные данные\n"
     ]
    }
   ],
   "execution_count": 2
  },
  {
   "cell_type": "markdown",
   "source": [
    "# Задача 2\n",
    "Написать функцию на вход, которой подается строка. Функция должна вернуть true, если\n",
    "каждый символ в строке встречается только 1 раз, иначе должна вернуть false. Написать тесты для кода"
   ],
   "metadata": {
    "id": "t2ClV_Y0bbr6"
   }
  },
  {
   "cell_type": "code",
   "source": [
    "def checking_repetitions(str):\n",
    "    dictionary = {}\n",
    "    \n",
    "    if str is None or len(str) == 0:\n",
    "        return \"Некорректные данные\"\n",
    "    \n",
    "    for sym in str:\n",
    "        if dictionary.keys().__contains__(sym):\n",
    "            dictionary[sym] += 1\n",
    "            return False\n",
    "        else:\n",
    "            dictionary[sym] = 1\n",
    "    return True\n",
    "\n",
    "\n",
    "print(checking_repetitions(\"abcdefg\"))\n",
    "print(checking_repetitions(\"Hello world\"))"
   ],
   "metadata": {
    "id": "FppbECao6VIz",
    "ExecuteTime": {
     "end_time": "2024-09-30T13:20:47.258257Z",
     "start_time": "2024-09-30T13:20:47.253749Z"
    }
   },
   "outputs": [
    {
     "name": "stdout",
     "output_type": "stream",
     "text": [
      "True\n",
      "False\n"
     ]
    }
   ],
   "execution_count": 3
  },
  {
   "cell_type": "markdown",
   "source": [
    "# Задача 3\n",
    "Написать функцию, которая принимает положительное число и возвращает количество\n",
    "бит равных 1 в этом числе. Написать тесты для кода"
   ],
   "metadata": {
    "id": "udRiIK1cdt6E"
   }
  },
  {
   "cell_type": "code",
   "source": [
    "def bit_counter(number):\n",
    "    if number is None or number < 0:\n",
    "        return \"Некорректные данные\"\n",
    "    \n",
    "    count = 0\n",
    "    binary = bin(number)[2:]\n",
    "    \n",
    "    for i in binary:\n",
    "        count += 1 if i == '1' else 0\n",
    "    return count\n",
    "\n",
    "\n",
    "print(bit_counter(5))\n",
    "print(bit_counter(100))\n",
    "print(bit_counter(-1))"
   ],
   "metadata": {
    "id": "6tkfDJRz6dp_",
    "ExecuteTime": {
     "end_time": "2024-09-30T13:21:35.301848Z",
     "start_time": "2024-09-30T13:21:35.297785Z"
    }
   },
   "outputs": [
    {
     "name": "stdout",
     "output_type": "stream",
     "text": [
      "2\n",
      "3\n",
      "Некорректные данные\n"
     ]
    }
   ],
   "execution_count": 4
  },
  {
   "cell_type": "markdown",
   "source": [
    "# Задача 4\n",
    "Написать функцию, которая принимает положительное число. Функция должна вернуть то,\n",
    "сколько раз необходимо перемножать цифры числа или результат перемножения, чтобы\n",
    "получилось число состоящее из одной цифры.\n",
    "Например, для входного числа:\n",
    "· 39 функция должна вернуть 3, так как 3*9=27 => 2*7=14 => 1*4=4\n",
    "· 4 функция должна вернуть 0, так как число уже состоит из одной цифры\n",
    "· 999 функция должна вернуть 4, так как 9*9*9=729 => 7*2*9=126 => 1*2*6=12 =>\n",
    "1*2=2. Написать тесты для кода"
   ],
   "metadata": {
    "id": "26dDUz-Ae17N"
   }
  },
  {
   "cell_type": "code",
   "source": [
    "import math\n",
    "\n",
    "def magic(n):\n",
    "    count = 0\n",
    "    if not str(n).isdigit() or n is None or n < 0:\n",
    "        return \"Некорректные данные\"\n",
    "    while len(str(n)) != 1:\n",
    "        split = [int(x) for x in str(n)]\n",
    "        n = math.prod(split)\n",
    "        count += 1\n",
    "    return count\n",
    "\n",
    "\n",
    "print(magic(39))\n",
    "print(magic(999))\n",
    "print(magic(-2))"
   ],
   "metadata": {
    "id": "BH1A_Mgi6i4G",
    "ExecuteTime": {
     "end_time": "2024-09-30T13:22:09.205802Z",
     "start_time": "2024-09-30T13:22:09.201122Z"
    }
   },
   "outputs": [
    {
     "name": "stdout",
     "output_type": "stream",
     "text": [
      "3\n",
      "4\n",
      "Некорректные данные\n"
     ]
    }
   ],
   "execution_count": 5
  },
  {
   "cell_type": "markdown",
   "source": [
    "# Задача 5\n",
    "Написать функцию, которая принимает два целочисленных вектора одинаковой длины и\n",
    "возвращает среднеквадратическое отклонение двух векторов. Написать тесты для кода"
   ],
   "metadata": {
    "id": "0nS-kIa8g8vd"
   }
  },
  {
   "cell_type": "code",
   "source": [
    "import math\n",
    "\n",
    "def mse(pred, true):\n",
    "\n",
    "    if (not isinstance(pred, int)\n",
    "            or not isinstance(true, int)\n",
    "            or len(str(pred)) != len(str(true))):\n",
    "        return \"Некорректные данные\"\n",
    "\n",
    "    average = (pred + true) / 2\n",
    "    squares1 = (pred - average) ** 2\n",
    "    squares2 = (true - average) ** 2\n",
    "    return math.sqrt((squares1 + squares2) / 2)\n",
    "\n",
    "\n",
    "print(mse(12, 32))\n",
    "print(mse(12, 323))"
   ],
   "metadata": {
    "id": "8iphx4LM6xbx",
    "ExecuteTime": {
     "end_time": "2024-09-30T13:23:41.283855Z",
     "start_time": "2024-09-30T13:23:41.280116Z"
    }
   },
   "outputs": [
    {
     "name": "stdout",
     "output_type": "stream",
     "text": [
      "10.0\n",
      "Некорректные данные\n"
     ]
    }
   ],
   "execution_count": 10
  },
  {
   "cell_type": "markdown",
   "source": [
    "# Задача 6\n",
    "Написать функцию, принимающая целое положительное число. Функция должна вернуть\n",
    "строку вида “(n1**p1)(n2**p2)…(nk**pk)” представляющая разложение числа на простые\n",
    "множители (если pi == 1, то выводить только ni).\n",
    "Например, для числа 86240 функция должна вернуть “(2**5)(5)(7**2)(11)”. Написать тесты для кода"
   ],
   "metadata": {
    "id": "vpIPKL439zkw"
   }
  },
  {
   "cell_type": "code",
   "source": [
    "def factor(number):\n",
    "    \n",
    "    if not str(number).isdigit() or number is None or number < 0:\n",
    "        return \"Некорректные данные\"\n",
    "    \n",
    "    result = []\n",
    "    divider = 2\n",
    "    \n",
    "    while divider * divider <= number:\n",
    "        if number % divider == 0:\n",
    "            result.append(divider)\n",
    "            number //= divider\n",
    "        else:\n",
    "            divider += 1\n",
    "\n",
    "    if number > 1:\n",
    "        result.append(number)\n",
    "\n",
    "    return processing_values(result)\n",
    "\n",
    "\n",
    "def processing_values(result):\n",
    "    result_str = \"\"\n",
    "    dict = {}\n",
    "\n",
    "    for i in result:\n",
    "        if dict.__contains__(i):\n",
    "            dict[i] += 1\n",
    "        else: dict[i] = 1\n",
    "\n",
    "    for i in dict.keys():\n",
    "        if dict[i] > 1:\n",
    "            result_str += f'({i}{dict[i]})'\n",
    "        else:\n",
    "            result_str += f'({i})'\n",
    "    return result_str\n",
    "\n",
    "\n",
    "print(factor(100))\n",
    "print(factor(-1))\n",
    "print(factor(86240))"
   ],
   "metadata": {
    "id": "pFebmcZk94Jw",
    "ExecuteTime": {
     "end_time": "2024-09-30T13:25:07.198570Z",
     "start_time": "2024-09-30T13:25:07.194336Z"
    }
   },
   "outputs": [
    {
     "name": "stdout",
     "output_type": "stream",
     "text": [
      "(22)(52)\n",
      "Некорректные данные\n",
      "(25)(5)(72)(11)\n"
     ]
    }
   ],
   "execution_count": 11
  },
  {
   "cell_type": "markdown",
   "source": [
    "# Задача 7\n",
    "Написать функцию, принимающая целое число n, задающее количество кубиков. Функция\n",
    "должна определить, можно ли из данного кол-ва кубиков построить пирамиду, то есть\n",
    "можно ли представить число n как 1^2+2^2+3^2+…+k^2. Если можно, то функция должна\n",
    "вернуть k, иначе строку “It is impossible”. Написать тесты для кода"
   ],
   "metadata": {
    "id": "ps2s0BudX7A2"
   }
  },
  {
   "cell_type": "code",
   "source": [
    "def pyramid(number):\n",
    "\n",
    "    if not str(number).isdigit() or number is None or number < 0:\n",
    "        return \"Некорректные данные\"\n",
    "\n",
    "    result = 0\n",
    "    i = 1\n",
    "\n",
    "    while result < number:\n",
    "        result += i**2\n",
    "        i += 1\n",
    "\n",
    "    if result == number:\n",
    "        return i\n",
    "\n",
    "    return \"It is impossible\"\n",
    "\n",
    "\n",
    "print(pyramid(14))\n",
    "print(pyramid(-1))"
   ],
   "metadata": {
    "id": "3YPjEXxhX_YT",
    "ExecuteTime": {
     "end_time": "2024-09-30T13:26:35.076043Z",
     "start_time": "2024-09-30T13:26:35.072515Z"
    }
   },
   "outputs": [
    {
     "name": "stdout",
     "output_type": "stream",
     "text": [
      "4\n",
      "Некорректные данные\n"
     ]
    }
   ],
   "execution_count": 29
  },
  {
   "cell_type": "markdown",
   "source": [
    "# Задача 8\n",
    "Функция принимает на вход положительное число и определяет является ли оно сбалансированным, т.е. сумма цифр до средних равна сумме цифр после. Средними в случае нечетного числа цифр считать одну цифру, в случае четного - две средних. Написать тесты для кода"
   ],
   "metadata": {
    "id": "KeKgmIdAQMEJ"
   }
  },
  {
   "cell_type": "code",
   "source": [
    "def load_balancer(number):\n",
    "    if testing(number):\n",
    "        return \"Некорректные данные\"\n",
    "\n",
    "    split = [int(x) for x in str(number)]\n",
    "    length = len(split)\n",
    "\n",
    "    if length % 2 == 0:\n",
    "        return funcs((length / 2) - 1, length, split)\n",
    "    else:\n",
    "        return funcs((length / 2), length , split)\n",
    "\n",
    "\n",
    "def funcs(function, length, split):\n",
    "    sum1 = 0\n",
    "    sum2 = 0\n",
    "\n",
    "    for i in range(length):\n",
    "        if i < int(function):\n",
    "            sum1 += split[i]\n",
    "        elif i > length / 2:\n",
    "            sum2 += split[i]\n",
    "    return sum1 == sum2\n",
    "\n",
    "\n",
    "def testing(number):\n",
    "    if not str(number).isdigit() or number is None or number < 0:\n",
    "        return True\n",
    "    return False\n",
    "\n",
    "\n",
    "print(load_balancer(2222))\n",
    "print(load_balancer(3111113))\n",
    "print(load_balancer(101010111))"
   ],
   "metadata": {
    "id": "gMAAqtqlQrZt",
    "ExecuteTime": {
     "end_time": "2024-09-30T13:29:24.245938Z",
     "start_time": "2024-09-30T13:29:24.241241Z"
    }
   },
   "outputs": [
    {
     "name": "stdout",
     "output_type": "stream",
     "text": [
      "True\n",
      "True\n",
      "False\n"
     ]
    }
   ],
   "execution_count": 33
  }
 ]
}
